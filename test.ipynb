{
 "cells": [
  {
   "cell_type": "code",
   "execution_count": 1,
   "metadata": {},
   "outputs": [],
   "source": [
    "from src.search.csp import CspBase\n",
    "import copy"
   ]
  },
  {
   "cell_type": "code",
   "execution_count": 2,
   "metadata": {},
   "outputs": [],
   "source": [
    "# adj_list = [\n",
    "#     [1, 3], # 0\n",
    "#     [0, 2, 3, 4], # 1\n",
    "#     [1, 4], # 2\n",
    "#     [0, 1, 4, 5], # 3\n",
    "#     [1, 2, 3, 5], # 4\n",
    "#     [3, 4, 6], # 5\n",
    "#     [8, 7, 5], # 6\n",
    "#     [6, 8, 9, 10], # 7\n",
    "#     [6, 7, 10, 11], # 8\n",
    "#     [7, 10], # 9\n",
    "#     [7, 8, 9, 11], # 10\n",
    "#     [10, 8], # 10\n",
    "# ]\n",
    "\n",
    "adj_list = [\n",
    "    [1, 2], # 0\n",
    "    [0, 2, 3], # 1\n",
    "    [0, 1, 3], # 2\n",
    "    [1, 2, 4], # 3\n",
    "    [3, 5, 6], # 4\n",
    "    [4, 6, 7], # 5\n",
    "    [4, 5, 7], # 6\n",
    "    [5, 6], # 7\n",
    "]\n",
    "\n",
    "colors = [i for i in range(7)]\n",
    "assignation = [None] * len(adj_list)\n",
    "\n",
    "def compute_options_number():\n",
    "    pass"
   ]
  },
  {
   "cell_type": "code",
   "execution_count": 3,
   "metadata": {},
   "outputs": [
    {
     "name": "stdout",
     "output_type": "stream",
     "text": [
      "\n",
      "            Csp Search Result:\n",
      "                results: 945000\n",
      "                time: 16.599407196044922s\n",
      "                explored states: 6725600\n",
      "            \n"
     ]
    }
   ],
   "source": [
    "class ColorMapState(CspBase):\n",
    "\n",
    "    def goal_test(self) -> bool:\n",
    "        for i, value in enumerate(self.assignation):\n",
    "            if value in [self.assignation[j] for j in self.adj_list[i]]:\n",
    "                return False\n",
    "\n",
    "        return True\n",
    "    \n",
    "\n",
    "\n",
    "csp = ColorMapState(assignation, adj_list, [copy.copy(colors) for _ in range(len(assignation))])\n",
    "_ = csp.search()"
   ]
  },
  {
   "cell_type": "code",
   "execution_count": 4,
   "metadata": {},
   "outputs": [
    {
     "name": "stdout",
     "output_type": "stream",
     "text": [
      "\n",
      "            Csp Search Result:\n",
      "                results: 945000\n",
      "                time: 3.507822036743164s\n",
      "                explored states: 1179409\n",
      "            \n",
      "\n",
      "            Csp Search Result:\n",
      "                results: 1\n",
      "                time: 3.0994415283203125e-05s\n",
      "                explored states: 8\n",
      "            \n"
     ]
    },
    {
     "data": {
      "text/plain": [
       "[0, 1, 2, 0, 1, 0, 2, 1]"
      ]
     },
     "execution_count": 4,
     "metadata": {},
     "output_type": "execute_result"
    }
   ],
   "source": [
    "class ColorMapState(CspBase):   \n",
    "    \n",
    "    def check_constraint(self, a, value_a, b, value_b) -> bool:\n",
    "        return value_a != value_b\n",
    "\n",
    "    def goal_test(self) -> bool:\n",
    "        return True\n",
    "\n",
    "    def order_domain_values(self, var):\n",
    "        return self.checking_after_assign(var)    \n",
    "\n",
    "\n",
    "csp = ColorMapState(assignation, adj_list, [copy.copy(colors) for _ in range(len(assignation))])\n",
    "_ = csp.search()\n",
    "csp.search(True)"
   ]
  },
  {
   "cell_type": "code",
   "execution_count": 5,
   "metadata": {},
   "outputs": [
    {
     "name": "stdout",
     "output_type": "stream",
     "text": [
      "\n",
      "            Csp Search Result:\n",
      "                results: 945000\n",
      "                time: 3.427677869796753s\n",
      "                explored states: 1179409\n",
      "            \n",
      "\n",
      "            Csp Search Result:\n",
      "                results: 1\n",
      "                time: 5.1975250244140625e-05s\n",
      "                explored states: 8\n",
      "            \n"
     ]
    },
    {
     "data": {
      "text/plain": [
       "[0, 1, 2, 0, 1, 0, 2, 1]"
      ]
     },
     "execution_count": 5,
     "metadata": {},
     "output_type": "execute_result"
    }
   ],
   "source": [
    "class ColorMapState(CspBase):   \n",
    "    \n",
    "    # def update_domain(self, var, unassign_var):\n",
    "    #     return [val for val in self.domains[unassign_var] if val != self.assignation[var]]\n",
    "\n",
    "    def check_constraint(self, a, value_a, b, value_b) -> bool:\n",
    "        return value_a != value_b\n",
    "\n",
    "    def goal_test(self) -> bool:\n",
    "        return True\n",
    "\n",
    "    def inference(self, var):\n",
    "        return self.forward_checking(var)\n",
    "\n",
    "\n",
    "csp = ColorMapState(assignation, adj_list, [copy.copy(colors) for _ in range(len(assignation))])\n",
    "_ = csp.search()\n",
    "csp.search(True)"
   ]
  },
  {
   "cell_type": "code",
   "execution_count": 6,
   "metadata": {},
   "outputs": [
    {
     "name": "stdout",
     "output_type": "stream",
     "text": [
      "\n",
      "            Csp Search Result:\n",
      "                results: 945000\n",
      "                time: 3.488785982131958s\n",
      "                explored states: 1179409\n",
      "            \n",
      "\n",
      "            Csp Search Result:\n",
      "                results: 1\n",
      "                time: 9.322166442871094e-05s\n",
      "                explored states: 8\n",
      "            \n"
     ]
    },
    {
     "data": {
      "text/plain": [
       "[0, 1, 2, 0, 1, 0, 2, 1]"
      ]
     },
     "execution_count": 6,
     "metadata": {},
     "output_type": "execute_result"
    }
   ],
   "source": [
    "class ColorMapState(CspBase):   \n",
    "    \n",
    "    def check_constraint(self, a, value_a, b, value_b) -> bool:\n",
    "        return value_a != value_b\n",
    "\n",
    "    def goal_test(self) -> bool:\n",
    "        return True\n",
    "\n",
    "    def select_unassigned_variable(self):\n",
    "        return self.minimum_remaining_values()\n",
    "\n",
    "    def inference(self, var):\n",
    "        return self.forward_checking(var)\n",
    "\n",
    "\n",
    "csp = ColorMapState(assignation, adj_list, [copy.copy(colors) for _ in range(len(assignation))])\n",
    "_ = csp.search()\n",
    "csp.search(True)"
   ]
  },
  {
   "cell_type": "code",
   "execution_count": 7,
   "metadata": {},
   "outputs": [
    {
     "name": "stdout",
     "output_type": "stream",
     "text": [
      "\n",
      "            Csp Search Result:\n",
      "                results: 945000\n",
      "                time: 4.105314016342163s\n",
      "                explored states: 1179409\n",
      "            \n",
      "\n",
      "            Csp Search Result:\n",
      "                results: 1\n",
      "                time: 0.00013327598571777344s\n",
      "                explored states: 8\n",
      "            \n"
     ]
    },
    {
     "data": {
      "text/plain": [
       "[0, 1, 2, 0, 1, 0, 2, 1]"
      ]
     },
     "execution_count": 7,
     "metadata": {},
     "output_type": "execute_result"
    }
   ],
   "source": [
    "class ColorMapState(CspBase):   \n",
    "    \n",
    "    def check_constraint(self, a, value_a, b, value_b) -> bool:\n",
    "        return value_a != value_b\n",
    "\n",
    "    def goal_test(self) -> bool:\n",
    "        return True\n",
    "\n",
    "    def select_unassigned_variable(self):\n",
    "        return self.minimum_remaining_values()\n",
    "\n",
    "    def inference(self, var):\n",
    "        return self.constraint_propagation(var)\n",
    "\n",
    "\n",
    "csp = ColorMapState(assignation, adj_list, [copy.copy(colors) for _ in range(len(assignation))])\n",
    "_ = csp.search()\n",
    "csp.search(True)"
   ]
  },
  {
   "cell_type": "code",
   "execution_count": 3,
   "metadata": {},
   "outputs": [
    {
     "data": {
      "text/plain": [
       "(1, [0, 0, 0, 0, 0, 0, 0, 0], [(3, 4)])"
      ]
     },
     "execution_count": 3,
     "metadata": {},
     "output_type": "execute_result"
    }
   ],
   "source": [
    "class ColorMapState(CspBase):\n",
    "\n",
    "    def goal_test(self) -> bool:\n",
    "        for i, value in enumerate(self.assignation):\n",
    "            if value in [self.assignation[j] for j in self.adj_list[i]]:\n",
    "                return False\n",
    "\n",
    "        return True\n",
    "    \n",
    "\n",
    "\n",
    "csp = ColorMapState(assignation, adj_list, [copy.copy(colors) for _ in range(len(assignation))])\n",
    "csp.find_bridges()"
   ]
  },
  {
   "cell_type": "markdown",
   "metadata": {},
   "source": []
  },
  {
   "cell_type": "code",
   "execution_count": null,
   "metadata": {},
   "outputs": [],
   "source": []
  }
 ],
 "metadata": {
  "kernelspec": {
   "display_name": "algorithm-implementation-by-python-1wgzFWzp",
   "language": "python",
   "name": "python3"
  },
  "language_info": {
   "codemirror_mode": {
    "name": "ipython",
    "version": 3
   },
   "file_extension": ".py",
   "mimetype": "text/x-python",
   "name": "python",
   "nbconvert_exporter": "python",
   "pygments_lexer": "ipython3",
   "version": "3.10.8"
  },
  "orig_nbformat": 4,
  "vscode": {
   "interpreter": {
    "hash": "1f5932cf5862e574b7946d42b50c4bbb340537d1489f823f7c6014dda0decf74"
   }
  }
 },
 "nbformat": 4,
 "nbformat_minor": 2
}
